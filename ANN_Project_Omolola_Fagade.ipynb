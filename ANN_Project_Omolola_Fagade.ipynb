{
 "cells": [
  {
   "cell_type": "code",
   "execution_count": 1,
   "metadata": {},
   "outputs": [],
   "source": [
    "import pandas as pd\n",
    "import numpy as np\n",
    "import matplotlib.pyplot as plt\n",
    "import matplotlib.image as mpimg\n",
    "import seaborn as sns\n",
    "%matplotlib inline\n",
    "\n",
    "np.random.seed(2)\n",
    "\n",
    "from sklearn.model_selection import train_test_split\n",
    "from sklearn.metrics import confusion_matrix\n",
    "import itertools\n",
    "\n",
    "from keras.utils.np_utils import to_categorical # convert to one-hot-encoding\n",
    "from keras.optimizers import RMSprop\n",
    "from keras.callbacks import ReduceLROnPlateau\n",
    "\n",
    "import keras\n",
    "from keras.models import Sequential\n",
    "from keras.utils import np_utils\n",
    "from keras.preprocessing.image import ImageDataGenerator\n",
    "from keras.layers import Dense, Flatten, Dropout, GlobalAveragePooling2D, \\\n",
    "GlobalAveragePooling2D, Input, BatchNormalization\n",
    "from keras.layers import Conv2D, MaxPooling2D\n",
    "\n",
    "sns.set(style='white', context='notebook', palette='deep')"
   ]
  },
  {
   "cell_type": "code",
   "execution_count": 2,
   "metadata": {},
   "outputs": [],
   "source": [
    "train = pd.read_csv(\"C:/Users/HP/Documents/Data_Science_course/Artificial_Nueural_Network/dsti-s20-ann/train_data.csv\",header=None)\n",
    "test = pd.read_csv(\"C:/Users/HP/Documents/Data_Science_course/Artificial_Nueural_Network/dsti-s20-ann/test_data.csv\",header=None)"
   ]
  },
  {
   "cell_type": "code",
   "execution_count": 3,
   "metadata": {},
   "outputs": [
    {
     "data": {
      "text/plain": [
       "(12000, 785)"
      ]
     },
     "execution_count": 3,
     "metadata": {},
     "output_type": "execute_result"
    }
   ],
   "source": [
    "train.shape"
   ]
  },
  {
   "cell_type": "code",
   "execution_count": 4,
   "metadata": {},
   "outputs": [
    {
     "data": {
      "text/plain": [
       "(50000, 784)"
      ]
     },
     "execution_count": 4,
     "metadata": {},
     "output_type": "execute_result"
    }
   ],
   "source": [
    "test.shape"
   ]
  },
  {
   "cell_type": "code",
   "execution_count": 5,
   "metadata": {},
   "outputs": [],
   "source": [
    "#test = test.drop(784,axis=1)\n",
    "#train[784] = test[784]\n",
    "Y_train = train[784]\n",
    "\n",
    "# Drop 'label' column\n",
    "X_train = train.drop(labels = [784],axis = 1) "
   ]
  },
  {
   "cell_type": "code",
   "execution_count": 6,
   "metadata": {},
   "outputs": [],
   "source": [
    "#X_train = train\n",
    "#X = X[:, None]\n",
    "#test = test.drop(784,axis=1)\n",
    "#Y_train = test[784]"
   ]
  },
  {
   "cell_type": "code",
   "execution_count": 7,
   "metadata": {},
   "outputs": [
    {
     "data": {
      "text/plain": [
       "1.0    1330\n",
       "3.0    1263\n",
       "2.0    1219\n",
       "6.0    1205\n",
       "8.0    1194\n",
       "7.0    1193\n",
       "9.0    1192\n",
       "0.0    1146\n",
       "4.0    1131\n",
       "5.0    1127\n",
       "Name: 784, dtype: int64"
      ]
     },
     "execution_count": 7,
     "metadata": {},
     "output_type": "execute_result"
    },
    {
     "data": {
      "image/png": "[encoded data removed]",
      "text/plain": [
       "<Figure size 432x288 with 1 Axes>"
      ]
     },
     "metadata": {
      "needs_background": "light"
     },
     "output_type": "display_data"
    }
   ],
   "source": [
    "g = sns.countplot(Y_train)\n",
    "\n",
    "Y_train.value_counts()"
   ]
  },
  {
   "cell_type": "code",
   "execution_count": 8,
   "metadata": {},
   "outputs": [
    {
     "data": {
      "text/plain": [
       "count       784\n",
       "unique        1\n",
       "top       False\n",
       "freq        784\n",
       "dtype: object"
      ]
     },
     "execution_count": 8,
     "metadata": {},
     "output_type": "execute_result"
    }
   ],
   "source": [
    "X_train.isnull().any().describe()"
   ]
  },
  {
   "cell_type": "code",
   "execution_count": 9,
   "metadata": {},
   "outputs": [
    {
     "data": {
      "text/plain": [
       "count       784\n",
       "unique        1\n",
       "top       False\n",
       "freq        784\n",
       "dtype: object"
      ]
     },
     "execution_count": 9,
     "metadata": {},
     "output_type": "execute_result"
    }
   ],
   "source": [
    "test.isnull().any().describe()"
   ]
  },
  {
   "cell_type": "code",
   "execution_count": 10,
   "metadata": {},
   "outputs": [],
   "source": [
    "# Normalize the data\n",
    "#X_train = X_train / 255.0\n",
    "#test = test / 255.0"
   ]
  },
  {
   "cell_type": "code",
   "execution_count": 11,
   "metadata": {},
   "outputs": [],
   "source": [
    "X_train = X_train.values.reshape(-1,28,28,1)\n",
    "test = test.values.reshape(-1,28,28,1)"
   ]
  },
  {
   "cell_type": "code",
   "execution_count": 12,
   "metadata": {},
   "outputs": [],
   "source": [
    "Y_train = to_categorical(Y_train, num_classes = 10)"
   ]
  },
  {
   "cell_type": "code",
   "execution_count": 13,
   "metadata": {},
   "outputs": [],
   "source": [
    "# Set the random seed\n",
    "random_seed = 2"
   ]
  },
  {
   "cell_type": "code",
   "execution_count": 14,
   "metadata": {},
   "outputs": [],
   "source": [
    "# Split the train and the validation set for the fitting\n",
    "X_train, X_val, Y_train, Y_val = train_test_split(X_train, Y_train, test_size = 0.2, random_state=random_seed)"
   ]
  },
  {
   "cell_type": "code",
   "execution_count": 15,
   "metadata": {},
   "outputs": [
    {
     "data": {
      "image/png": "[encoded data removed]",
      "text/plain": [
       "<Figure size 432x288 with 1 Axes>"
      ]
     },
     "metadata": {
      "needs_background": "light"
     },
     "output_type": "display_data"
    }
   ],
   "source": [
    "g = plt.imshow(X_train[1][:,:,0])"
   ]
  },
  {
   "cell_type": "code",
   "execution_count": 16,
   "metadata": {},
   "outputs": [],
   "source": [
    "from tensorflow.keras import layers\n",
    "from tensorflow.keras import regularizers\n",
    "\n",
    "\n",
    "layer = layers.Dense(\n",
    "    units=64,\n",
    "    kernel_regularizer=regularizers.l1_l2(l1=1e-5, l2=1e-4),\n",
    "    bias_regularizer=regularizers.l2(1e-4),\n",
    "    activity_regularizer=regularizers.l2(1e-5)\n",
    ")"
   ]
  },
  {
   "cell_type": "code",
   "execution_count": 17,
   "metadata": {},
   "outputs": [],
   "source": [
    "input_shape = (X_train.shape[1], X_train.shape[2], X_train.shape[3])"
   ]
  },
  {
   "cell_type": "code",
   "execution_count": 18,
   "metadata": {},
   "outputs": [],
   "source": [
    "# Set the CNN model \n",
    "# my CNN architechture is In -> [[Conv2D->relu]*2 -> MaxPool2D -> Dropout]*2 -> Flatten -> Dense -> Dropout -> Out\n",
    "\n",
    "#model = Sequential()\n",
    "\n",
    "#model.add(Conv2D(filters = 32, kernel_size = (5,5),padding = 'Same', \n",
    "                 #activation ='relu', input_shape = (28,28,1)))\n",
    "#model.add(Conv2D(filters = 32, kernel_size = (5,5),padding = 'Same', \n",
    "                # activation ='relu'))\n",
    "#model.add(MaxPool2D(pool_size=(2,2)))\n",
    "#model.add(Dropout(0.25))\n",
    "\n",
    "\n",
    "#model.add(Conv2D(filters = 64, kernel_size = (3,3),padding = 'Same', \n",
    "                 #activation ='relu'))\n",
    "#model.add(Conv2D(filters = 64, kernel_size = (3,3),padding = 'Same', \n",
    "                 #activation ='relu'))\n",
    "#model.add(MaxPool2D(pool_size=(2,2), strides=(2,2)))\n",
    "#model.add(Dropout(0.25))\n",
    "\n",
    "#model.add(Flatten())\n",
    "#model.add(Dense(256, activation = \"relu\"))\n",
    "#model.add(Dropout(0.5))\n",
    "#model.add(Dense(10, activation = \"softmax\"))\n",
    "\n",
    "\n",
    "model = Sequential()\n",
    "\n",
    "model.add(Conv2D(64, kernel_size=3, padding=\"same\", activation=\"relu\", input_shape=input_shape))\n",
    "model.add(Conv2D(64, kernel_size=3, padding=\"same\", activation=\"relu\"))\n",
    "model.add(BatchNormalization())\n",
    "model.add(MaxPooling2D())\n",
    "model.add(Dropout(0.05))\n",
    "\n",
    "model.add(Conv2D(128, kernel_size=3, padding=\"same\", activation=\"relu\"))\n",
    "model.add(Conv2D(128, kernel_size=3, padding=\"same\", activation=\"relu\"))\n",
    "model.add(BatchNormalization())\n",
    "model.add(MaxPooling2D())\n",
    "model.add(Dropout(0.05))\n",
    "\n",
    "model.add(GlobalAveragePooling2D())\n",
    "model.add(Dropout(0.125))\n",
    "model.add(Dense(100))\n",
    "model.add(Dropout(0.25))\n",
    "model.add(Dense(10, activation=\"softmax\", name=\"predictions\"))"
   ]
  },
  {
   "cell_type": "code",
   "execution_count": 19,
   "metadata": {},
   "outputs": [
    {
     "data": {
      "text/plain": [
       "<tf.Tensor 'conv2d_input:0' shape=(None, 28, 28, 1) dtype=float32>"
      ]
     },
     "execution_count": 19,
     "metadata": {},
     "output_type": "execute_result"
    }
   ],
   "source": [
    "model.input"
   ]
  },
  {
   "cell_type": "code",
   "execution_count": 20,
   "metadata": {},
   "outputs": [
    {
     "name": "stdout",
     "output_type": "stream",
     "text": [
      "Model: \"sequential\"\n",
      "_________________________________________________________________\n",
      "Layer (type)                 Output Shape              Param #   \n",
      "=================================================================\n",
      "conv2d (Conv2D)              (None, 28, 28, 64)        640       \n",
      "_________________________________________________________________\n",
      "conv2d_1 (Conv2D)            (None, 28, 28, 64)        36928     \n",
      "_________________________________________________________________\n",
      "batch_normalization (BatchNo (None, 28, 28, 64)        256       \n",
      "_________________________________________________________________\n",
      "max_pooling2d (MaxPooling2D) (None, 14, 14, 64)        0         \n",
      "_________________________________________________________________\n",
      "dropout (Dropout)            (None, 14, 14, 64)        0         \n",
      "_________________________________________________________________\n",
      "conv2d_2 (Conv2D)            (None, 14, 14, 128)       73856     \n",
      "_________________________________________________________________\n",
      "conv2d_3 (Conv2D)            (None, 14, 14, 128)       147584    \n",
      "_________________________________________________________________\n",
      "batch_normalization_1 (Batch (None, 14, 14, 128)       512       \n",
      "_________________________________________________________________\n",
      "max_pooling2d_1 (MaxPooling2 (None, 7, 7, 128)         0         \n",
      "_________________________________________________________________\n",
      "dropout_1 (Dropout)          (None, 7, 7, 128)         0         \n",
      "_________________________________________________________________\n",
      "global_average_pooling2d (Gl (None, 128)               0         \n",
      "_________________________________________________________________\n",
      "dropout_2 (Dropout)          (None, 128)               0         \n",
      "_________________________________________________________________\n",
      "dense_1 (Dense)              (None, 100)               12900     \n",
      "_________________________________________________________________\n",
      "dropout_3 (Dropout)          (None, 100)               0         \n",
      "_________________________________________________________________\n",
      "predictions (Dense)          (None, 10)                1010      \n",
      "=================================================================\n",
      "Total params: 273,686\n",
      "Trainable params: 273,302\n",
      "Non-trainable params: 384\n",
      "_________________________________________________________________\n"
     ]
    }
   ],
   "source": [
    "model.summary()"
   ]
  },
  {
   "cell_type": "code",
   "execution_count": 21,
   "metadata": {},
   "outputs": [],
   "source": [
    "#optimizer = RMSprop(lr=0.001, rho=0.9, epsilon=1e-08, decay=0.0)"
   ]
  },
  {
   "cell_type": "code",
   "execution_count": 22,
   "metadata": {},
   "outputs": [],
   "source": [
    "# Compile the model\n",
    "model.compile(optimizer = keras.optimizers.SGD(lr=0.01) , loss = \"categorical_crossentropy\", metrics=[\"accuracy\"])"
   ]
  },
  {
   "cell_type": "code",
   "execution_count": 23,
   "metadata": {},
   "outputs": [],
   "source": [
    "#learning_rate_reduction = ReduceLROnPlateau(monitor='val_accuracy', \n",
    "                                            #patience=3, \n",
    "                                            #verbose=1, \n",
    "                                            #factor=0.5, \n",
    "                                           # min_lr=0.00001)"
   ]
  },
  {
   "cell_type": "code",
   "execution_count": 24,
   "metadata": {},
   "outputs": [],
   "source": [
    "epochs = 30 \n",
    "batch_size = 32"
   ]
  },
  {
   "cell_type": "code",
   "execution_count": 25,
   "metadata": {},
   "outputs": [],
   "source": [
    "#datagen = ImageDataGenerator(\n",
    "        #featurewise_center=False,  # set input mean to 0 over the dataset\n",
    "        #samplewise_center=False,  # set each sample mean to 0\n",
    "        #featurewise_std_normalization=False,  # divide inputs by std of the dataset\n",
    "        #samplewise_std_normalization=False,  # divide each input by its std\n",
    "        #zca_whitening=False,  # apply ZCA whitening\n",
    "        #rotation_range=10,  # randomly rotate images in the range (degrees, 0 to 180)\n",
    "        #zoom_range = 0.1, # Randomly zoom image \n",
    "        #width_shift_range=0.1,  # randomly shift images horizontally (fraction of total width)\n",
    "        #height_shift_range=0.1,  # randomly shift images vertically (fraction of total height)\n",
    "        #horizontal_flip=False,  # randomly flip images\n",
    "        #vertical_flip=False)  # randomly flip images\n",
    "\n",
    "\n",
    "#datagen.fit(X_train)"
   ]
  },
  {
   "cell_type": "code",
   "execution_count": 26,
   "metadata": {},
   "outputs": [],
   "source": [
    "callbacks = []"
   ]
  },
  {
   "cell_type": "code",
   "execution_count": 27,
   "metadata": {},
   "outputs": [
    {
     "name": "stdout",
     "output_type": "stream",
     "text": [
      "Epoch 1/30\n",
      "300/300 [==============================] - 115s 385ms/step - loss: 2.0695 - accuracy: 0.2631 - val_loss: 2.3156 - val_accuracy: 0.1129\n",
      "Epoch 2/30\n",
      "300/300 [==============================] - 119s 396ms/step - loss: 1.4058 - accuracy: 0.5536 - val_loss: 1.4741 - val_accuracy: 0.4567\n",
      "Epoch 3/30\n",
      "300/300 [==============================] - 122s 406ms/step - loss: 0.9236 - accuracy: 0.7331 - val_loss: 1.6219 - val_accuracy: 0.5367\n",
      "Epoch 4/30\n",
      "300/300 [==============================] - 117s 388ms/step - loss: 0.6691 - accuracy: 0.8153 - val_loss: 0.7264 - val_accuracy: 0.7788\n",
      "Epoch 5/30\n",
      "300/300 [==============================] - 120s 400ms/step - loss: 0.5253 - accuracy: 0.8512 - val_loss: 0.4975 - val_accuracy: 0.8554\n",
      "Epoch 6/30\n",
      "300/300 [==============================] - 116s 386ms/step - loss: 0.4321 - accuracy: 0.8754 - val_loss: 0.6358 - val_accuracy: 0.7946\n",
      "Epoch 7/30\n",
      "300/300 [==============================] - 116s 386ms/step - loss: 0.3657 - accuracy: 0.8963 - val_loss: 0.5000 - val_accuracy: 0.8492\n",
      "Epoch 8/30\n",
      "300/300 [==============================] - 120s 400ms/step - loss: 0.3282 - accuracy: 0.9072 - val_loss: 0.4234 - val_accuracy: 0.8633\n",
      "Epoch 9/30\n",
      "300/300 [==============================] - 116s 388ms/step - loss: 0.2845 - accuracy: 0.9184 - val_loss: 0.3576 - val_accuracy: 0.9000\n",
      "Epoch 10/30\n",
      "300/300 [==============================] - 116s 388ms/step - loss: 0.2586 - accuracy: 0.9278 - val_loss: 0.4981 - val_accuracy: 0.8342\n",
      "Epoch 11/30\n",
      "300/300 [==============================] - 120s 401ms/step - loss: 0.2438 - accuracy: 0.9278 - val_loss: 0.3477 - val_accuracy: 0.8988\n",
      "Epoch 12/30\n",
      "300/300 [==============================] - 116s 388ms/step - loss: 0.2198 - accuracy: 0.9377 - val_loss: 0.2648 - val_accuracy: 0.9237\n",
      "Epoch 13/30\n",
      "300/300 [==============================] - 137s 456ms/step - loss: 0.2050 - accuracy: 0.9409 - val_loss: 0.4298 - val_accuracy: 0.8658\n",
      "Epoch 14/30\n",
      "300/300 [==============================] - 134s 445ms/step - loss: 0.1853 - accuracy: 0.9496 - val_loss: 0.2691 - val_accuracy: 0.9167\n",
      "Epoch 15/30\n",
      "300/300 [==============================] - 135s 452ms/step - loss: 0.1692 - accuracy: 0.9523 - val_loss: 0.2627 - val_accuracy: 0.9212\n",
      "Epoch 16/30\n",
      "300/300 [==============================] - 134s 448ms/step - loss: 0.1610 - accuracy: 0.9518 - val_loss: 0.1830 - val_accuracy: 0.9425\n",
      "Epoch 17/30\n",
      "300/300 [==============================] - 129s 429ms/step - loss: 0.1537 - accuracy: 0.9561 - val_loss: 0.2693 - val_accuracy: 0.9087\n",
      "Epoch 18/30\n",
      "300/300 [==============================] - 131s 436ms/step - loss: 0.1408 - accuracy: 0.9601 - val_loss: 0.1991 - val_accuracy: 0.9375\n",
      "Epoch 19/30\n",
      "300/300 [==============================] - 116s 385ms/step - loss: 0.1332 - accuracy: 0.9625 - val_loss: 0.1749 - val_accuracy: 0.9446\n",
      "Epoch 20/30\n",
      "300/300 [==============================] - 112s 374ms/step - loss: 0.1231 - accuracy: 0.9664 - val_loss: 0.2169 - val_accuracy: 0.9308\n",
      "Epoch 21/30\n",
      "300/300 [==============================] - 115s 385ms/step - loss: 0.1180 - accuracy: 0.9680 - val_loss: 0.2046 - val_accuracy: 0.9371\n",
      "Epoch 22/30\n",
      "300/300 [==============================] - 113s 376ms/step - loss: 0.1045 - accuracy: 0.9710 - val_loss: 0.2576 - val_accuracy: 0.9212\n",
      "Epoch 23/30\n",
      "300/300 [==============================] - 115s 384ms/step - loss: 0.1018 - accuracy: 0.9710 - val_loss: 0.2086 - val_accuracy: 0.9362\n",
      "Epoch 24/30\n",
      "300/300 [==============================] - 112s 374ms/step - loss: 0.0925 - accuracy: 0.9760 - val_loss: 0.1766 - val_accuracy: 0.9433\n",
      "Epoch 25/30\n",
      "300/300 [==============================] - 120s 401ms/step - loss: 0.0911 - accuracy: 0.9756 - val_loss: 0.4056 - val_accuracy: 0.8829\n",
      "Epoch 26/30\n",
      "300/300 [==============================] - 116s 387ms/step - loss: 0.0846 - accuracy: 0.9762 - val_loss: 0.2371 - val_accuracy: 0.9287\n",
      "Epoch 27/30\n",
      "300/300 [==============================] - 112s 372ms/step - loss: 0.0762 - accuracy: 0.9793 - val_loss: 0.1694 - val_accuracy: 0.9521\n",
      "Epoch 28/30\n",
      "300/300 [==============================] - 113s 375ms/step - loss: 0.0717 - accuracy: 0.9825 - val_loss: 0.1788 - val_accuracy: 0.9425\n",
      "Epoch 29/30\n",
      "300/300 [==============================] - 117s 390ms/step - loss: 0.0646 - accuracy: 0.9848 - val_loss: 0.1736 - val_accuracy: 0.9496\n",
      "Epoch 30/30\n",
      "300/300 [==============================] - 112s 373ms/step - loss: 0.0646 - accuracy: 0.9840 - val_loss: 0.1607 - val_accuracy: 0.9504\n"
     ]
    },
    {
     "data": {
      "text/plain": [
       "<tensorflow.python.keras.callbacks.History at 0x19388a6de08>"
      ]
     },
     "execution_count": 27,
     "metadata": {},
     "output_type": "execute_result"
    }
   ],
   "source": [
    "# Fit the model\n",
    "#model.fit(datagen.flow(X_train,Y_train, batch_size=batch_size),\n",
    "                              #epochs = epochs, \n",
    "                              #validation_data = (X_val,Y_val),\n",
    "                              #verbose = 2, \n",
    "                              #steps_per_epoch=X_train.shape[0] // batch_size)\n",
    "                             #callbacks=[learning_rate_reduction])\n",
    "\n",
    "model.fit(X_train,Y_train, \n",
    "        batch_size=batch_size,\n",
    "        epochs = epochs, \n",
    "        validation_data = (X_val,Y_val))"
   ]
  },
  {
   "cell_type": "code",
   "execution_count": 28,
   "metadata": {},
   "outputs": [
    {
     "name": "stdout",
     "output_type": "stream",
     "text": [
      "75/75 [==============================] - 6s 75ms/step - loss: 0.1607 - accuracy: 0.9504\n"
     ]
    }
   ],
   "source": [
    "scores = model.evaluate(X_val, Y_val, batch_size=batch_size, verbose=1)"
   ]
  },
  {
   "cell_type": "code",
   "execution_count": 29,
   "metadata": {},
   "outputs": [
    {
     "name": "stdout",
     "output_type": "stream",
     "text": [
      "[0.1607244461774826, 0.9504166841506958]\n"
     ]
    }
   ],
   "source": [
    "print(scores)"
   ]
  },
  {
   "cell_type": "code",
   "execution_count": 30,
   "metadata": {},
   "outputs": [],
   "source": [
    "import cv2"
   ]
  },
  {
   "cell_type": "code",
   "execution_count": 31,
   "metadata": {},
   "outputs": [
    {
     "data": {
      "image/png": "[encoded data removed]",
      "text/plain": [
       "<Figure size 432x288 with 2 Axes>"
      ]
     },
     "metadata": {
      "needs_background": "light"
     },
     "output_type": "display_data"
    }
   ],
   "source": [
    "def plot_confusion_matrix(cm, classes,\n",
    "                          normalize=False,\n",
    "                          title='Confusion matrix',\n",
    "                          cmap=plt.cm.Blues):\n",
    "    \"\"\"\n",
    "    This function prints and plots the confusion matrix.\n",
    "    Normalization can be applied by setting `normalize=True`.\n",
    "    \"\"\"\n",
    "    plt.imshow(cm, interpolation='nearest', cmap=cmap)\n",
    "    plt.title(title)\n",
    "    plt.colorbar()\n",
    "    tick_marks = np.arange(len(classes))\n",
    "    plt.xticks(tick_marks, classes, rotation=45)\n",
    "    plt.yticks(tick_marks, classes)\n",
    "\n",
    "    if normalize:\n",
    "        cm = cm.astype('float') / cm.sum(axis=1)[:, np.newaxis]\n",
    "\n",
    "    thresh = cm.max() / 2.\n",
    "    for i, j in itertools.product(range(cm.shape[0]), range(cm.shape[1])):\n",
    "        plt.text(j, i, cm[i, j],\n",
    "                 horizontalalignment=\"center\",\n",
    "                 color=\"white\" if cm[i, j] > thresh else \"black\")\n",
    "\n",
    "    plt.tight_layout()\n",
    "    plt.ylabel('True label')\n",
    "    plt.xlabel('Predicted label')\n",
    "\n",
    "# Predict the values from the validation dataset\n",
    "Y_pred = model.predict(X_val)\n",
    "# Convert predictions classes to one hot vectors \n",
    "Y_pred_classes = np.argmax(Y_pred,axis = 1) \n",
    "# Convert validation observations to one hot vectors\n",
    "Y_true = np.argmax(Y_val,axis = 1) \n",
    "# compute the confusion matrix\n",
    "confusion_mtx = confusion_matrix(Y_true, Y_pred_classes) \n",
    "# plot the confusion matrix\n",
    "plot_confusion_matrix(confusion_mtx, classes = range(10)) "
   ]
  },
  {
   "cell_type": "code",
   "execution_count": 32,
   "metadata": {},
   "outputs": [
    {
     "data": {
      "image/png": "[encoded data removed]",
      "text/plain": [
       "<Figure size 432x288 with 6 Axes>"
      ]
     },
     "metadata": {
      "needs_background": "light"
     },
     "output_type": "display_data"
    }
   ],
   "source": [
    "\n",
    "# Errors are difference between predicted labels and true labels\n",
    "errors = (Y_pred_classes - Y_true != 0)\n",
    "\n",
    "Y_pred_classes_errors = Y_pred_classes[errors]\n",
    "Y_pred_errors = Y_pred[errors]\n",
    "Y_true_errors = Y_true[errors]\n",
    "X_val_errors = X_val[errors]\n",
    "\n",
    "def display_errors(errors_index,img_errors,pred_errors, obs_errors):\n",
    "    \"\"\" This function shows 6 images with their predicted and real labels\"\"\"\n",
    "    n = 0\n",
    "    nrows = 2\n",
    "    ncols = 3\n",
    "    fig, ax = plt.subplots(nrows,ncols,sharex=True,sharey=True)\n",
    "    for row in range(nrows):\n",
    "        for col in range(ncols):\n",
    "            error = errors_index[n]\n",
    "            ax[row,col].imshow((img_errors[error]).reshape((28,28)))\n",
    "            ax[row,col].set_title(\"Predicted label :{}\\nTrue label :{}\".format(pred_errors[error],obs_errors[error]))\n",
    "            n += 1\n",
    "\n",
    "# Probabilities of the wrong predicted numbers\n",
    "Y_pred_errors_prob = np.max(Y_pred_errors,axis = 1)\n",
    "# Predicted probabilities of the true values in the error set\n",
    "true_prob_errors = np.diagonal(np.take(Y_pred_errors, Y_true_errors, axis=1))\n",
    "\n",
    "# Difference between the probability of the predicted label and the true label\n",
    "delta_pred_true_errors = Y_pred_errors_prob - true_prob_errors\n",
    "\n",
    "# Sorted list of the delta prob errors\n",
    "sorted_dela_errors = np.argsort(delta_pred_true_errors)\n",
    "\n",
    "# Top 6 errors \n",
    "most_important_errors = sorted_dela_errors[-6:]\n",
    "\n",
    "# Show the top 6 errors\n",
    "display_errors(most_important_errors, X_val_errors, Y_pred_classes_errors, Y_true_errors)\n",
    "                            "
   ]
  },
  {
   "cell_type": "code",
   "execution_count": 33,
   "metadata": {},
   "outputs": [],
   "source": [
    "results = model.predict(test)\n",
    "\n",
    "# select the indix with the maximum probability\n",
    "results = np.argmax(results,axis = 1)\n",
    "\n",
    "results = pd.Series(results,name=\"Category\")"
   ]
  },
  {
   "cell_type": "code",
   "execution_count": null,
   "metadata": {},
   "outputs": [],
   "source": []
  },
  {
   "cell_type": "code",
   "execution_count": 34,
   "metadata": {},
   "outputs": [],
   "source": [
    "N = 50000"
   ]
  },
  {
   "cell_type": "code",
   "execution_count": 35,
   "metadata": {},
   "outputs": [],
   "source": [
    "pred = model.predict(test[:N])"
   ]
  },
  {
   "cell_type": "code",
   "execution_count": 36,
   "metadata": {},
   "outputs": [],
   "source": [
    "max_pred_score = pred.max(axis=1)"
   ]
  },
  {
   "cell_type": "code",
   "execution_count": 37,
   "metadata": {},
   "outputs": [
    {
     "data": {
      "image/png": "[encoded data removed]",
      "text/plain": [
       "<Figure size 432x288 with 1 Axes>"
      ]
     },
     "metadata": {
      "needs_background": "light"
     },
     "output_type": "display_data"
    }
   ],
   "source": [
    "n, bins, patches = plt.hist(max_pred_score, bins=100)"
   ]
  },
  {
   "cell_type": "code",
   "execution_count": 38,
   "metadata": {},
   "outputs": [
    {
     "data": {
      "image/png": "[encoded data removed]",
      "text/plain": [
       "<Figure size 432x288 with 1 Axes>"
      ]
     },
     "metadata": {
      "needs_background": "light"
     },
     "output_type": "display_data"
    }
   ],
   "source": [
    "n, bins, patches = plt.hist(max_pred_score, bins=100, cumulative=True, density=True)"
   ]
  },
  {
   "cell_type": "code",
   "execution_count": 39,
   "metadata": {},
   "outputs": [],
   "source": [
    "submission = pd.concat([pd.Series(range(0,50000),name = \"Id\"),results],axis = 1)\n",
    "\n",
    "submission.to_csv(\"Submission.csv\",index=False)\n"
   ]
  },
  {
   "cell_type": "markdown",
   "metadata": {},
   "source": [
    "# Report"
   ]
  },
  {
   "cell_type": "markdown",
   "metadata": {},
   "source": [
    "\n",
    "\n",
    "Understanding the Data.\n",
    "As it was stated in the description of the assignment that the data was similar to MNIST, it was easy to see a number of codes online that had used the MNIST dataset but not a dataset similar to MNIST. The data was also split in to train and test set where the test set was much more than the train set, this seemed really unusual as it should be the other way around as we taught that it is usually 20% to 80% of test and train split respectively.\n",
    "I could view the data through the pandas csv function and was able to manually split it into x train, y train, x test and y test. This was where my mistake was, I shouldn't be manually spliting the data into test and train. The train data was to be used as both train and validation while it findings would be used on the test set. It took be a while to figure this out that was why i had a terrible and stactic validation accuracy of between 9% to 11.9%. Once i figured this out all was that left was to keep twinking the code till i got the best accuracy.\n",
    "\n",
    "Processing the data.\n",
    "\n",
    "I could see that the number of classes chosen generally for a dataset such as this was 10, so I also chose 10. The batch size I also discovered were between 128 to 200. I used 200 initially would see how the result turns out. I went with 30 has the epoch size. As the data was flattened into a dim of 784, it had to be reshaped to a 28 by 28 pixel.\n",
    "\n",
    "Training the model.\n",
    "\n",
    "I decided to go with the convolution neural network (CNN) and added a lot of layers. After the first epoch run the validation accuracy was really terrible at 9.5%. Based on research it seems the model is overfitting so I have decided to add a regularizer to helps  divide by the input batch size so that the relative weighting between the weight regularizers and the activity regularizers does not change with the batch size.\n",
    "With the regularizers the accuracy was still very poor. So, I decided to switch the data back to how it was ordered, though it seemed weird that the train set representing about 20 % and the test set representing 80%. \n",
    "I also noticed that another thing, that could have affected the accuracy was that I divided the images by 255, which is wrong has the images had already being converted to float, so that step wasn’t necessary. This also did not work; I got an accuracy of 12percent.\n",
    " \n",
    "I finally found out what I was doing wrong my data wasn’t divided properly. I was trying the divide the dataset myself into x train, y train ,ytest and x test using dataframe methods. I also switched back the data to the right way it was given meaning that train set remained train set though it contained 12,000 while the test set contained 50,000. I finally got a validation accuracy of 90%, to see if it could be better I decided to use data augementation by using image generator and the validation accuracy was 77.67% which is far from what I got before. \n",
    " \n",
    "I removed the data augmentation, allowed a learning rate and the result was about 89%.\n",
    "I changed the activation function from relu to tanh but the validation accuracy was 68.25%. So I think I would stick with the method above where I got 90%\n",
    " \n",
    "I re-ran the model with the previous scenario of using relu, no learning rate and I got 87%, will stop there for now. I plotted the confusion matrix to show where the problem can be and there were a number of errors such as a number of 8s were classified and 3 and 5, the noise in the data, really affected it’s predictability. After further investigating the errors the following was discovered.\n",
    " \n",
    "\n",
    "I had a regularization and got an accuracy of 89.26%. I am going to reduce the batch size from 200 to 64 and see if this makes a difference. Reducing the batch size to 64 gave me an accuracy of 93%. I changed the batch size to 32 and got an accuracy of 94.9%. I am going allow data augmentation with current batch size of 32 and L1 and L2 regularization and see if I get a better accuracy. After doing this my validation accuracy was 91.17%. Will try the previous strategy where I had the higher accuracy of 94.9% which was batch size 32 and I got an accuracy of 95.04%.\n",
    "\n",
    "CONCLUSION\n",
    "I would stop here, my model could be better, if I can reduce the noise some more. The confusion matrix looks so much more better.One would think data augumentation through image generator will make the model predict better because of it's features such as flipping the images and  so on but it made it worse.\n",
    "\n"
   ]
  }
 ],
 "metadata": {
  "kernelspec": {
   "display_name": "Python 3",
   "language": "python",
   "name": "python3"
  },
  "language_info": {
   "codemirror_mode": {
    "name": "ipython",
    "version": 3
   },
   "file_extension": ".py",
   "mimetype": "text/x-python",
   "name": "python",
   "nbconvert_exporter": "python",
   "pygments_lexer": "ipython3",
   "version": "3.7.4"
  }
 },
 "nbformat": 4,
 "nbformat_minor": 2
}
